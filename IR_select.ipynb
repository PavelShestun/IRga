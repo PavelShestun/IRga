{
 "cells": [
  {
   "cell_type": "code",
   "execution_count": null,
   "id": "c40af382",
   "metadata": {},
   "outputs": [],
   "source": [
    "import pandas as pd\n",
    "import numpy as np\n",
    "import os"
   ]
  },
  {
   "cell_type": "code",
   "execution_count": null,
   "id": "af208a59",
   "metadata": {},
   "outputs": [],
   "source": [
    "# Настройка отсечки по малым пикам\n",
    "min_intensity_threshold = 0.01  # отсечка по интенсивности (0.1 означает, что пики с интенсивностью ниже 10% от максимальной интенсивности будут игнорироваться)"
   ]
  },
  {
   "cell_type": "code",
   "execution_count": null,
   "id": "362a1621",
   "metadata": {},
   "outputs": [],
   "source": [
    "# Настройка отхождения по частоте\n",
    "frequency_tolerance = 3  # максимальное отклонение по частоте"
   ]
  },
  {
   "cell_type": "code",
   "execution_count": null,
   "id": "00e477a4",
   "metadata": {},
   "outputs": [],
   "source": [
    "# Настройка уникальности пиков\n",
    "unique_peak_tolerance = 3  # максимальное отхождение по частоте для определения уникальности пика# Загрузка экспериментальных данных"
   ]
  },
  {
   "cell_type": "code",
   "execution_count": null,
   "id": "a074dcf9",
   "metadata": {},
   "outputs": [],
   "source": [
    "# Импорт файлов и обработка\n",
    "exp_data = pd.read_csv('experimental_data.dpt', header=None, names=['Частота', 'Экспериментальная интенсивность'])"
   ]
  },
  {
   "cell_type": "code",
   "execution_count": null,
   "id": "1b14c384",
   "metadata": {},
   "outputs": [],
   "source": [
    "# Загрузка предсказанных данных спектров ИК-Фурье\n",
    "predicted_data_dir = 'predicted_data'\n",
    "predicted_files = [f for f in os.listdir(predicted_data_dir) if f.endswith('.txt')]"
   ]
  },
  {
   "cell_type": "code",
   "execution_count": null,
   "id": "043af1a4",
   "metadata": {},
   "outputs": [],
   "source": [
    "# Создание таблицы для хранения результатов\n",
    "results = pd.DataFrame(columns=['Название вещества', 'Частота', 'Экспериментальная интенсивность'])"
   ]
  },
  {
   "cell_type": "code",
   "execution_count": null,
   "id": "fdb46640",
   "metadata": {},
   "outputs": [],
   "source": [
    "# Обработка предсказанных данных\n",
    "for file in predicted_files:\n",
    "    substance_name = file.split('.')[0]\n",
    "    predicted_data = pd.read_csv(os.path.join(predicted_data_dir, file), sep='\\t')\n",
    "    \n",
    "    # Переименование столбцов для удобства\n",
    "    predicted_data = predicted_data.rename(columns={'Wavenumber / Raman shift (cm⁻¹)': 'Частота', 'IR Intensity': 'Интенсивность'})\n",
    "    \n",
    "    # Добавление столбца 'Название вещества'\n",
    "    predicted_data['Название вещества'] = substance_name\n",
    "    \n",
    "    # Отсечение малых пиков\n",
    "    predicted_data = predicted_data[predicted_data['Интенсивность'] > min_intensity_threshold * predicted_data['Интенсивность'].max()]\n",
    "    \n",
    "    # Сортировка по частоте\n",
    "    predicted_data = predicted_data.sort_values(by='Частота')\n",
    "    exp_data = exp_data.sort_values(by='Частота')\n",
    "    \n",
    "    # Поиск совпадений с экспериментальными данными с учетом отхождения\n",
    "    matches = pd.merge_asof(predicted_data, exp_data, on='Частота', direction='nearest', tolerance=frequency_tolerance)\n",
    "    \n",
    "    # Удаление строк с пустыми значениями в столбце \"Экспериментальная интенсивность\"\n",
    "    matches = matches.dropna(subset=['Экспериментальная интенсивность'])"
   ]
  },
  {
   "cell_type": "code",
   "execution_count": null,
   "id": "c24b46f5",
   "metadata": {},
   "outputs": [],
   "source": [
    "    # Определение уникальности пиков\n",
    "    matches['Уникальность'] = matches.apply(lambda row: 'Уникальный' if len(matches[(matches['Частота'] >= row['Частота'] - unique_peak_tolerance) & (matches['Частота'] <= row['Частота'] + unique_peak_tolerance)]) == 1 else ', '.join(matches[(matches['Частота'] >= row['Частота'] - unique_peak_tolerance) & (matches['Частота'] <= row['Частота'] + unique_peak_tolerance)]['Название вещества'].unique()), axis=1)\n",
    "    \n",
    "    # Добавление результатов в таблицу\n",
    "    results = pd.concat([results, matches[['Название вещества', 'Частота', 'Экспериментальная интенсивность', 'Уникальность']]], ignore_index=True)# Сохранение результатов в файл"
   ]
  },
  {
   "cell_type": "code",
   "execution_count": null,
   "id": "2037d659",
   "metadata": {},
   "outputs": [],
   "source": [
    "#### Определение уникальности \n",
    "# Создание списка всех частот\n",
    "frequencies = results['Частота'].unique()"
   ]
  },
  {
   "cell_type": "code",
   "execution_count": null,
   "id": "946ba42c",
   "metadata": {},
   "outputs": [],
   "source": [
    "# Обработка каждой частоты\n",
    "for frequency in frequencies:\n",
    "    # Поиск пересекающихся частот\n",
    "    intersecting_frequencies = frequencies[(frequencies >= frequency - unique_peak_tolerance) & (frequencies <= frequency + unique_peak_tolerance)]\n",
    "    \n",
    "    # Если найдены пересекающиеся частоты, то объедините списки веществ\n",
    "    if len(intersecting_frequencies) > 1:\n",
    "        substances = []\n",
    "        for intersecting_frequency in intersecting_frequencies:\n",
    "            substances.extend(results[results['Частота'] == intersecting_frequency]['Название вещества'].unique())\n",
    "        results.loc[results['Частота'] == frequency, 'Уникальность'] = ', '.join(substances)\n",
    "    # Если нет пересекающихся частот, то пометьте частоту как \"Уникальный\"\n",
    "    else:\n",
    "        results.loc[results['Частота'] == frequency, 'Уникальность'] = 'Уникальный'"
   ]
  },
  {
   "cell_type": "code",
   "execution_count": null,
   "id": "2b57d2b8",
   "metadata": {},
   "outputs": [],
   "source": [
    "# Сохранение результатов в файл\n",
    "results.to_csv('results.csv', index=False)"
   ]
  },
  {
   "cell_type": "code",
   "execution_count": null,
   "id": "c32f4941",
   "metadata": {},
   "outputs": [],
   "source": [
    "results"
   ]
  },
  {
   "cell_type": "code",
   "execution_count": null,
   "id": "f675c6d6",
   "metadata": {},
   "outputs": [],
   "source": [
    "#### Анализ и визуализация данных\n",
    "# Визуализируем пики на нашем эксперименте\n",
    "import pandas as pd\n",
    "import plotly.graph_objects as go\n",
    "import plotly.express as px"
   ]
  },
  {
   "cell_type": "code",
   "execution_count": null,
   "id": "e3ad9b2c",
   "metadata": {},
   "outputs": [],
   "source": [
    "# Настройки\n",
    "show_substances = input(\"Введите настройку показа веществ (all, only, или список веществ через запятую): \")\n",
    "show_frequencies = input(\"Введите настройку показа частот (all, only, или список пересечений веществ через запятую): \")"
   ]
  },
  {
   "cell_type": "code",
   "execution_count": null,
   "id": "23c3e62a",
   "metadata": {},
   "outputs": [],
   "source": [
    "# Загрузка экспериментальных данных\n",
    "exp_data = pd.read_csv('experimental_data.dpt', header=None, names=['Частота', 'Экспериментальная интенсивность'])"
   ]
  },
  {
   "cell_type": "code",
   "execution_count": null,
   "id": "d446ea2f",
   "metadata": {},
   "outputs": [],
   "source": [
    "# Создание графика\n",
    "fig = go.Figure()"
   ]
  },
  {
   "cell_type": "code",
   "execution_count": null,
   "id": "af2eaf17",
   "metadata": {},
   "outputs": [],
   "source": [
    "# Добавление экспериментальной кривой\n",
    "fig.add_trace(go.Scatter(\n",
    "    x=exp_data['Частота'], \n",
    "    y=exp_data['Экспериментальная интенсивность'], \n",
    "    mode='lines', \n",
    "    line=dict(color='black'),\n",
    "    name='Экспериментальная кривая'\n",
    "))"
   ]
  },
  {
   "cell_type": "code",
   "execution_count": null,
   "id": "abc62b9f",
   "metadata": {},
   "outputs": [],
   "source": [
    "# Показ точек из переменной results\n",
    "if show_substances == 'all':\n",
    "    substances = results['Название вещества'].unique()\n",
    "elif show_substances == 'only':\n",
    "    substances = results[results['Уникальность'] == 'Уникальный']['Название вещества'].unique()\n",
    "else:\n",
    "    substances = [substance.strip() for substance in show_substances.split(',')]"
   ]
  },
  {
   "cell_type": "code",
   "execution_count": null,
   "id": "fae56226",
   "metadata": {},
   "outputs": [],
   "source": [
    "if show_frequencies == 'all':\n",
    "    frequencies = results['Частота'].unique()\n",
    "elif show_frequencies == 'only':\n",
    "    frequencies = results[results['Уникальность'] == 'Уникальный']['Частота'].unique()\n",
    "else:\n",
    "    frequencies = results[results['Уникальность'] == show_frequencies]['Частота'].unique()"
   ]
  },
  {
   "cell_type": "code",
   "execution_count": null,
   "id": "06c62190",
   "metadata": {},
   "outputs": [],
   "source": [
    "# Определяем ширину прямоугольников\n",
    "dx = 10  # Вы можете изменить это значение на нужное"
   ]
  },
  {
   "cell_type": "code",
   "execution_count": null,
   "id": "cca3e64e",
   "metadata": {},
   "outputs": [],
   "source": [
    "# Цветовая палитра\n",
    "colors = px.colors.qualitative.Plotly"
   ]
  },
  {
   "cell_type": "code",
   "execution_count": null,
   "id": "585df458",
   "metadata": {},
   "outputs": [],
   "source": [
    "# Добавление точек и закрашивание прямоугольников под ними\n",
    "for idx, substance in enumerate(substances):\n",
    "    substance_data = results[results['Название вещества'] == substance]\n",
    "    if show_frequencies != 'all':\n",
    "        substance_data = substance_data[substance_data['Частота'].isin(frequencies)]\n",
    "    \n",
    "    color = colors[idx % len(colors)]  # Использование цвета из палитры\n",
    "    \n",
    "    fig.add_trace(go.Scatter(\n",
    "        x=substance_data['Частота'], \n",
    "        y=substance_data['Экспериментальная интенсивность'], \n",
    "        mode='markers',\n",
    "        marker=dict(size=10, opacity=0.7, color=color),\n",
    "        name=substance\n",
    "    ))"
   ]
  },
  {
   "cell_type": "code",
   "execution_count": null,
   "id": "b0b2ce6b",
   "metadata": {},
   "outputs": [],
   "source": [
    "    for index, row in substance_data.iterrows():\n",
    "        fig.add_shape(\n",
    "            type=\"rect\",\n",
    "            x0=row['Частота'] - dx / 2,\n",
    "            x1=row['Частота'] + dx / 2,\n",
    "            y0=0,\n",
    "            y1=row['Экспериментальная интенсивность'],\n",
    "            fillcolor=color,\n",
    "            opacity=0.2,\n",
    "            line=dict(width=0)\n",
    "        )"
   ]
  },
  {
   "cell_type": "code",
   "execution_count": null,
   "id": "18291989",
   "metadata": {},
   "outputs": [],
   "source": [
    "# Настройки сетки и осей\n",
    "fig.update_layout(\n",
    "    title='Экспериментальный график',\n",
    "    xaxis_title='Частота',\n",
    "    yaxis_title='Интенсивность',\n",
    "    template='plotly_white',\n",
    "    xaxis=dict(showgrid=True, gridwidth=0.5, gridcolor='LightGray'),\n",
    "    yaxis=dict(showgrid=True, gridwidth=0.5, gridcolor='LightGray'),\n",
    "    width=1200,  # Увеличение ширины\n",
    "    height=720   # Увеличение высоты\n",
    ")"
   ]
  },
  {
   "cell_type": "code",
   "execution_count": null,
   "id": "7bff64da",
   "metadata": {},
   "outputs": [],
   "source": [
    "# Показ графика\n",
    "fig.show()"
   ]
  },
  {
   "cell_type": "code",
   "execution_count": null,
   "id": "15f26e13",
   "metadata": {},
   "outputs": [],
   "source": [
    "\n",
    "# статиченый график"
   ]
  },
  {
   "cell_type": "code",
   "execution_count": null,
   "id": "337069da",
   "metadata": {},
   "outputs": [],
   "source": [
    "# In[164]:"
   ]
  },
  {
   "cell_type": "code",
   "execution_count": null,
   "id": "d4459f40",
   "metadata": {},
   "outputs": [],
   "source": [
    "\n",
    "import matplotlib.pyplot as plt\n",
    "import pandas as pd"
   ]
  },
  {
   "cell_type": "code",
   "execution_count": null,
   "id": "d2e19067",
   "metadata": {},
   "outputs": [],
   "source": [
    "# Настройки\n",
    "show_substances = input(\"Введите настройку показа веществ (all, only, или список веществ через запятую): \")\n",
    "show_frequencies = input(\"Введите настройку показа частот (all, only, или список пересечений веществ через запятую): \")"
   ]
  },
  {
   "cell_type": "code",
   "execution_count": null,
   "id": "12045c3a",
   "metadata": {},
   "outputs": [],
   "source": [
    "# Загрузка экспериментальных данных\n",
    "exp_data = pd.read_csv('experimental_data.dpt', header=None, names=['Частота', 'Экспериментальная интенсивность'])"
   ]
  },
  {
   "cell_type": "code",
   "execution_count": null,
   "id": "98d53816",
   "metadata": {},
   "outputs": [],
   "source": [
    "# Показ экспериментальной кривой\n",
    "plt.figure(figsize=(12, 8), dpi=300)  # Увеличение разрешения\n",
    "plt.plot(exp_data['Частота'], exp_data['Экспериментальная интенсивность'], color='black')  # Линия экспериментальной кривой черная"
   ]
  },
  {
   "cell_type": "code",
   "execution_count": null,
   "id": "fa1fc468",
   "metadata": {},
   "outputs": [],
   "source": [
    "# Показ точек из переменной results\n",
    "if show_substances == 'all':\n",
    "    substances = results['Название вещества'].unique()\n",
    "elif show_substances == 'only':\n",
    "    substances = results[results['Уникальность'] == 'Уникальный']['Название вещества'].unique()\n",
    "else:\n",
    "    substances = [substance.strip() for substance in show_substances.split(',')]"
   ]
  },
  {
   "cell_type": "code",
   "execution_count": null,
   "id": "96555554",
   "metadata": {},
   "outputs": [],
   "source": [
    "if show_frequencies == 'all':\n",
    "    frequencies = results['Частота'].unique()\n",
    "elif show_frequencies == 'only':\n",
    "    frequencies = results[results['Уникальность'] == 'Уникальный']['Частота'].unique()\n",
    "else:\n",
    "    frequencies = results[results['Уникальность'] == show_frequencies]['Частота'].unique()"
   ]
  },
  {
   "cell_type": "code",
   "execution_count": null,
   "id": "c7a9073a",
   "metadata": {},
   "outputs": [],
   "source": [
    "for substance in substances:\n",
    "    substance_data = results[results['Название вещества'] == substance]\n",
    "    if show_frequencies!= 'all':\n",
    "        substance_data = substance_data[substance_data['Частота'].isin(frequencies)]\n",
    "    plt.scatter(substance_data['Частота'], substance_data['Экспериментальная интенсивность'], label=substance, s=50, marker='o', zorder=10)  # Закрашивание полосы под точ"
   ]
  },
  {
   "cell_type": "code",
   "execution_count": null,
   "id": "9dd12e39",
   "metadata": {},
   "outputs": [],
   "source": [
    "#### Анализ результатов наложения\n",
    "import matplotlib.pyplot as plt\n",
    "import seaborn as sns"
   ]
  },
  {
   "cell_type": "code",
   "execution_count": null,
   "id": "0de004dc",
   "metadata": {},
   "outputs": [],
   "source": [
    "# Боксплоты для сравнения интенсивности веществ\n",
    "plt.figure(figsize=(20, 6))\n",
    "sns.boxplot(x='Название вещества', y='Экспериментальная интенсивность', data=results)\n",
    "plt.title('Боксплоты интенсивности веществ')\n",
    "plt.show()"
   ]
  },
  {
   "cell_type": "code",
   "execution_count": null,
   "id": "942d1e70",
   "metadata": {},
   "outputs": [],
   "source": [
    "# Гистограмма распределения интенсивности веществ\n",
    "plt.figure(figsize=(20, 6))\n",
    "sns.histplot(results['Экспериментальная интенсивность'], bins=50, kde=True)\n",
    "plt.title('Гистограмма распределения интенсивности веществ')\n",
    "plt.show()"
   ]
  },
  {
   "cell_type": "code",
   "execution_count": null,
   "id": "3099172a",
   "metadata": {},
   "outputs": [],
   "source": [
    "# Диаграмма рассеяния частоты и интенсивности веществ\n",
    "plt.figure(figsize=(20, 6))\n",
    "sns.scatterplot(x='Частота', y='Экспериментальная интенсивность', hue='Название вещества', data=results)\n",
    "plt.title('Диаграмма рассеяния частоты и интенсивности веществ')\n",
    "plt.show()"
   ]
  },
  {
   "cell_type": "code",
   "execution_count": null,
   "id": "00fb9feb",
   "metadata": {},
   "outputs": [],
   "source": [
    "# Получаем уникальные значения уникальности веществ\n",
    "unique_uniqueness = results['Уникальность'].unique()"
   ]
  },
  {
   "cell_type": "code",
   "execution_count": null,
   "id": "7e6288e3",
   "metadata": {},
   "outputs": [],
   "source": [
    "# Разбиваем данные на несколько графиков\n",
    "n_plots = len(unique_uniqueness) // 5 + 1\n",
    "for i in range(n_plots):\n",
    "    fig, ax = plt.subplots(figsize=(20, 6))\n",
    "    sns.boxplot(x='Уникальность', y='Экспериментальная интенсивность', data=results[results['Уникальность'].isin(unique_uniqueness[i*5:(i+1)*5])])\n",
    "    plt.title(f'Боксплоты уникальности веществ ({i+1}/{n_plots})')\n",
    "    plt.show()"
   ]
  },
  {
   "cell_type": "code",
   "execution_count": null,
   "id": "44490873",
   "metadata": {},
   "outputs": [],
   "source": [
    "# Гистограмма распределения уникальности веществ\n",
    "n_plots = len(unique_uniqueness) // 5 + 1\n",
    "for i in range(n_plots):\n",
    "    fig, ax = plt.subplots(figsize=(20, 6))\n",
    "    sns.histplot(results['Уникальность'][results['Уникальность'].isin(unique_uniqueness[i*5:(i+1)*5])], bins=50, kde=True)\n",
    "    plt.title(f'Гистограмма распределения уникальности веществ ({i+1}/{n_plots})')\n",
    "    plt.show()"
   ]
  }
 ],
 "metadata": {
  "kernelspec": {
   "display_name": "Python 3 (ipykernel)",
   "language": "python",
   "name": "python3"
  },
  "language_info": {
   "codemirror_mode": {
    "name": "ipython",
    "version": 3
   },
   "file_extension": ".py",
   "mimetype": "text/x-python",
   "name": "python",
   "nbconvert_exporter": "python",
   "pygments_lexer": "ipython3",
   "version": "3.11.4"
  }
 },
 "nbformat": 4,
 "nbformat_minor": 5
}
